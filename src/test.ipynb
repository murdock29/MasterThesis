{
 "cells": [
  {
   "cell_type": "code",
   "id": "initial_id",
   "metadata": {
    "collapsed": true,
    "ExecuteTime": {
     "end_time": "2025-08-03T14:57:10.603247Z",
     "start_time": "2025-08-03T14:57:04.850415Z"
    }
   },
   "source": [
    "import torch\n",
    "import torchvision as tv"
   ],
   "outputs": [],
   "execution_count": 1
  },
  {
   "metadata": {
    "ExecuteTime": {
     "end_time": "2025-08-03T14:57:13.944866Z",
     "start_time": "2025-08-03T14:57:12.504224Z"
    }
   },
   "cell_type": "code",
   "source": "model = tv.models.vgg19()",
   "id": "747ff63567a2291e",
   "outputs": [],
   "execution_count": 3
  },
  {
   "metadata": {
    "ExecuteTime": {
     "end_time": "2025-08-03T15:20:26.626031Z",
     "start_time": "2025-08-03T15:20:26.622008Z"
    }
   },
   "cell_type": "code",
   "source": "test = model.children()",
   "id": "f4a5be67080274c0",
   "outputs": [],
   "execution_count": 6
  },
  {
   "metadata": {
    "ExecuteTime": {
     "end_time": "2025-08-03T16:22:44.557744Z",
     "start_time": "2025-08-03T16:21:44.653329Z"
    }
   },
   "cell_type": "code",
   "source": "data = tv.datasets.CIFAR100('../data', download=True)",
   "id": "b0fce5c1eeed9624",
   "outputs": [
    {
     "name": "stderr",
     "output_type": "stream",
     "text": [
      "100.0%\n"
     ]
    }
   ],
   "execution_count": 8
  },
  {
   "metadata": {},
   "cell_type": "code",
   "outputs": [],
   "execution_count": null,
   "source": "",
   "id": "a771ba62169e12ab"
  },
  {
   "metadata": {},
   "cell_type": "code",
   "outputs": [],
   "execution_count": null,
   "source": [
    "import torch\n",
    "import torch.nn as nn\n",
    "import torch.optim as optim\n",
    "from torch.utils.data import DataLoader, TensorDataset\n",
    "from torchvision import models, transforms\n",
    "from torchvision.datasets import CIFAR10\n",
    "\n",
    "# Load a pre-trained model, e.g., VGG19\n",
    "model = models.vgg19(pretrained=True)\n",
    "model.eval()  # Set the model to evaluation mode\n",
    "\n",
    "# Remove the last classification layer to use the remaining layers as a feature extractor\n",
    "features = nn.Sequential(*list(model.children())[:-1])\n",
    "\n",
    "# Define a transform to normalize the data\n",
    "transform = transforms.Compose([\n",
    "    transforms.Resize(256),\n",
    "    transforms.CenterCrop(224),\n",
    "    transforms.ToTensor(),\n",
    "    transforms.Normalize(mean=[0.485, 0.456, 0.406], std=[0.229, 0.224, 0.225]),\n",
    "])\n",
    "\n",
    "# Load dataset, e.g., CIFAR10\n",
    "train_dataset = CIFAR10(root='./data', train=True, download=True, transform=transform)\n",
    "train_loader = DataLoader(train_dataset, batch_size=64, shuffle=True)\n",
    "\n",
    "# Function to extract features\n",
    "def extract_features(data_loader, feature_extractor):\n",
    "    features_list = []\n",
    "    labels_list = []\n",
    "    with torch.no_grad():\n",
    "        for inputs, labels in data_loader:\n",
    "            features = feature_extractor(inputs)\n",
    "            features_list.append(features.view(features.size(0), -1))\n",
    "            labels_list.append(labels)\n",
    "    return torch.cat(features_list), torch.cat(labels_list)\n",
    "\n",
    "# Extract features\n",
    "X_train, y_train = extract_features(train_loader, features)\n",
    "\n",
    "# Create a TensorDataset and DataLoader for the features\n",
    "feature_dataset = TensorDataset(X_train, y_train)\n",
    "feature_loader = DataLoader(feature_dataset, batch_size=64, shuffle=True)\n",
    "\n",
    "# Define a linear classifier\n",
    "class LinearClassifier(nn.Module):\n",
    "    def __init__(self, input_dim, num_classes):\n",
    "        super(LinearClassifier, self).__init__()\n",
    "        self.fc = nn.Linear(input_dim, num_classes)\n",
    "\n",
    "    def forward(self, x):\n",
    "        return self.fc(x)\n",
    "\n",
    "# Initialize the linear classifier\n",
    "input_dim = X_train.size(1)\n",
    "num_classes = 10  # For CIFAR10\n",
    "linear_classifier = LinearClassifier(input_dim, num_classes)\n",
    "\n",
    "# Define loss function and optimizer\n",
    "criterion = nn.CrossEntropyLoss()\n",
    "optimizer = optim.Adam(linear_classifier.parameters(), lr=0.001)\n",
    "\n",
    "# Training loop\n",
    "num_epochs = 10\n",
    "for epoch in range(num_epochs):\n",
    "    for inputs, labels in feature_loader:\n",
    "        optimizer.zero_grad()\n",
    "        outputs = linear_classifier(inputs)\n",
    "        loss = criterion(outputs, labels)\n",
    "        loss.backward()\n",
    "        optimizer.step()\n",
    "    print(f'Epoch {epoch+1}/{num_epochs}, Loss: {loss.item()}')\n",
    "\n",
    "# Evaluate the classifier\n",
    "linear_classifier.eval()\n",
    "with torch.no_grad():\n",
    "    correct = 0\n",
    "    total = 0\n",
    "    for inputs, labels in feature_loader:\n",
    "        outputs = linear_classifier(inputs)\n",
    "        _, predicted = torch.max(outputs.data, 1)\n",
    "        total += labels.size(0)\n",
    "        correct += (predicted == labels).sum().item()\n",
    "    print(f'Accuracy: {100 * correct / total}%')"
   ],
   "id": "188dbab42fc1c314"
  }
 ],
 "metadata": {
  "kernelspec": {
   "display_name": "Python 3",
   "language": "python",
   "name": "python3"
  },
  "language_info": {
   "codemirror_mode": {
    "name": "ipython",
    "version": 2
   },
   "file_extension": ".py",
   "mimetype": "text/x-python",
   "name": "python",
   "nbconvert_exporter": "python",
   "pygments_lexer": "ipython2",
   "version": "2.7.6"
  }
 },
 "nbformat": 4,
 "nbformat_minor": 5
}
